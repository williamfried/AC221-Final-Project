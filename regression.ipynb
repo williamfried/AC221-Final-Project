{
 "cells": [
  {
   "cell_type": "code",
   "execution_count": 835,
   "metadata": {},
   "outputs": [],
   "source": [
    "from collections import defaultdict, Counter\n",
    "import matplotlib.pyplot as plt\n",
    "import multiprocessing as mp\n",
    "import numpy as np\n",
    "import pandas as pd\n",
    "import sys\n",
    "import time\n",
    "from scipy.stats import entropy\n",
    "from math import log, e\n",
    "from scipy.stats.stats import pearsonr  \n",
    "from scipy.special import logit\n",
    "from sklearn.linear_model import LogisticRegression\n",
    "from scipy.stats import bernoulli, norm\n",
    "\n",
    "plt.rc('axes', titlesize=20) \n",
    "plt.rc('axes', labelsize=15)\n",
    "plt.rc('legend', fontsize=20)"
   ]
  },
  {
   "cell_type": "code",
   "execution_count": 796,
   "metadata": {},
   "outputs": [],
   "source": [
    "df_synthetic = pd.read_csv('synthetic_dataset_naive.csv', index_col=0)"
   ]
  },
  {
   "cell_type": "code",
   "execution_count": 798,
   "metadata": {},
   "outputs": [],
   "source": [
    "# remove all observations where the grade value is NA, as they aren't useful to the regression analysis\n",
    "df_synthetic_copy = df_synthetic.copy()\n",
    "df_synthetic_copy = df_synthetic_copy[~pd.isnull(df_synthetic_copy.grade)]"
   ]
  },
  {
   "cell_type": "code",
   "execution_count": 799,
   "metadata": {},
   "outputs": [
    {
     "data": {
      "text/plain": [
       "(11009668, 7)"
      ]
     },
     "execution_count": 799,
     "metadata": {},
     "output_type": "execute_result"
    }
   ],
   "source": [
    "df_synthetic_copy.shape"
   ]
  },
  {
   "cell_type": "code",
   "execution_count": 801,
   "metadata": {},
   "outputs": [],
   "source": [
    "# extract original dataset\n",
    "df_original = df_synthetic_copy[df_synthetic_copy.grade != 9999]\n",
    "nrows_original = len(df_original)"
   ]
  },
  {
   "cell_type": "code",
   "execution_count": 685,
   "metadata": {},
   "outputs": [],
   "source": [
    "# df_synthetic_copy['grade'].fillna(0, inplace=True)"
   ]
  },
  {
   "cell_type": "code",
   "execution_count": 803,
   "metadata": {},
   "outputs": [],
   "source": [
    "# calculate mean year of birth of observations in original dataset\n",
    "mean_yob = round(np.mean(df_original.YoB))"
   ]
  },
  {
   "cell_type": "code",
   "execution_count": 804,
   "metadata": {},
   "outputs": [],
   "source": [
    "# create indicator variable that is 1 if YoB is missing and 0 otherwise\n",
    "df_synthetic_copy['YoB_missing'] = [int(pd.isnull(x)) for x in df_synthetic_copy.YoB]"
   ]
  },
  {
   "cell_type": "code",
   "execution_count": 805,
   "metadata": {},
   "outputs": [],
   "source": [
    "# fill in missing YoB values with the mean YoB and center distribution of YoB at 0 to facilitate model fitting\n",
    "df_synthetic_copy['YoB_centered'] = df_synthetic_copy['YoB']\n",
    "df_synthetic_copy['YoB_centered'].fillna(mean_yob, inplace=True)\n",
    "df_synthetic_copy['YoB_centered'] = df_synthetic_copy['YoB_centered'].apply(lambda x: x - mean_yob)"
   ]
  },
  {
   "cell_type": "code",
   "execution_count": 806,
   "metadata": {},
   "outputs": [
    {
     "data": {
      "text/plain": [
       "United States                     1967874\n",
       "India                              466410\n",
       "United Kingdom                     382869\n",
       "Canada                             356540\n",
       "Brazil                             343499\n",
       "Australia                          239399\n",
       "China                              234558\n",
       "Mexico                             210179\n",
       "Spain                              209843\n",
       "Germany                            202835\n",
       "France                             187697\n",
       "Colombia                           154981\n",
       "Netherlands                        140630\n",
       "Greece                             131575\n",
       "Italy                              124728\n",
       "Japan                              121887\n",
       "Turkey                             121321\n",
       "Russian Federation                 121159\n",
       "Singapore                          109625\n",
       "Philippines                        109031\n",
       "Hong Kong                          104534\n",
       "Pakistan                            99622\n",
       "Argentina                           98324\n",
       "Peru                                94147\n",
       "Poland                              93012\n",
       "Nigeria                             91650\n",
       "Egypt                               86810\n",
       "Indonesia                           85859\n",
       "Chile                               82369\n",
       "Belgium                             82018\n",
       "                                   ...   \n",
       "Bonaire                               209\n",
       "Central African Republic              175\n",
       "Mayotte                               156\n",
       "Aland Islands                         148\n",
       "Guinea-Bissau                         140\n",
       "Kiribati                              115\n",
       "Sint Maarten                          101\n",
       "Comoros                                95\n",
       "Timor-Leste                            80\n",
       "Palau                                  79\n",
       "São Tomé and Príncipe                  73\n",
       "Montserrat                             71\n",
       "British Virgin Islands                 63\n",
       "Cook Islands                           54\n",
       "Brunei                                 52\n",
       "San Marino                             42\n",
       "Antarctica                             31\n",
       "Sint Maarten (Dutch part)              30\n",
       "Tuvalu                                 23\n",
       "North Korea                            21\n",
       "Vatican City                           20\n",
       "Falkland Islands (Malvinas)            19\n",
       "Saint Helena                           15\n",
       "Saint Martin (French part)             15\n",
       "Nauru                                  14\n",
       "Niue                                   14\n",
       "Saint Pierre and Miquelon               8\n",
       "Åland                                   5\n",
       "British Indian Ocean Territory          5\n",
       "Falkland Islands                        4\n",
       "Name: countryLabel, Length: 254, dtype: int64"
      ]
     },
     "execution_count": 806,
     "metadata": {},
     "output_type": "execute_result"
    }
   ],
   "source": [
    "df_synthetic_copy.countryLabel.value_counts()"
   ]
  },
  {
   "cell_type": "markdown",
   "metadata": {},
   "source": [
    "The output above shows that there are 254 unique countries whose residents have taken edX courses. Including every country as a different predictor in the model would make the training process extremely slow and would make it difficult for the model to identify the true effect of each country on grade (especially for those countries that have only a few students). Therefore, because the U.S. has almost 5 times the number of students as the next country (India), we decided to simply use an indicate variable that represents whether the student is from the U.S. or not. "
   ]
  },
  {
   "cell_type": "code",
   "execution_count": 807,
   "metadata": {},
   "outputs": [],
   "source": [
    "# add column that indicates whether a given student is from the United States or not\n",
    "df_synthetic_copy['from_USA'] = [int(x == 'United States') for x in df_synthetic_copy.countryLabel]"
   ]
  },
  {
   "cell_type": "code",
   "execution_count": 808,
   "metadata": {},
   "outputs": [],
   "source": [
    "# create new category for categorical variables that signifies that the original entry was missing\n",
    "df_synthetic_copy.fillna('None', inplace=True)"
   ]
  },
  {
   "cell_type": "code",
   "execution_count": 809,
   "metadata": {},
   "outputs": [
    {
     "data": {
      "text/html": [
       "<div>\n",
       "<style scoped>\n",
       "    .dataframe tbody tr th:only-of-type {\n",
       "        vertical-align: middle;\n",
       "    }\n",
       "\n",
       "    .dataframe tbody tr th {\n",
       "        vertical-align: top;\n",
       "    }\n",
       "\n",
       "    .dataframe thead th {\n",
       "        text-align: right;\n",
       "    }\n",
       "</style>\n",
       "<table border=\"1\" class=\"dataframe\">\n",
       "  <thead>\n",
       "    <tr style=\"text-align: right;\">\n",
       "      <th></th>\n",
       "      <th>course_id</th>\n",
       "      <th>YoB</th>\n",
       "      <th>countryLabel</th>\n",
       "      <th>LoE</th>\n",
       "      <th>gender</th>\n",
       "      <th>nforum_posts</th>\n",
       "      <th>grade</th>\n",
       "      <th>YoB_missing</th>\n",
       "      <th>YoB_centered</th>\n",
       "      <th>from_USA</th>\n",
       "    </tr>\n",
       "  </thead>\n",
       "  <tbody>\n",
       "    <tr>\n",
       "      <th>95</th>\n",
       "      <td>HarvardX/PH525.1x/1T2018</td>\n",
       "      <td>None</td>\n",
       "      <td>Spain</td>\n",
       "      <td>None</td>\n",
       "      <td>None</td>\n",
       "      <td>0.0</td>\n",
       "      <td>1.00</td>\n",
       "      <td>1</td>\n",
       "      <td>0.0</td>\n",
       "      <td>0</td>\n",
       "    </tr>\n",
       "    <tr>\n",
       "      <th>196</th>\n",
       "      <td>HarvardX/PH525.1x/1T2018</td>\n",
       "      <td>None</td>\n",
       "      <td>United States</td>\n",
       "      <td>None</td>\n",
       "      <td>None</td>\n",
       "      <td>0.0</td>\n",
       "      <td>0.95</td>\n",
       "      <td>1</td>\n",
       "      <td>0.0</td>\n",
       "      <td>1</td>\n",
       "    </tr>\n",
       "    <tr>\n",
       "      <th>289</th>\n",
       "      <td>HarvardX/PH525.1x/1T2018</td>\n",
       "      <td>1980</td>\n",
       "      <td>Germany</td>\n",
       "      <td>b</td>\n",
       "      <td>m</td>\n",
       "      <td>0.0</td>\n",
       "      <td>1.00</td>\n",
       "      <td>0</td>\n",
       "      <td>-4.0</td>\n",
       "      <td>0</td>\n",
       "    </tr>\n",
       "    <tr>\n",
       "      <th>316</th>\n",
       "      <td>HarvardX/PH525.1x/1T2018</td>\n",
       "      <td>1969</td>\n",
       "      <td>Portugal</td>\n",
       "      <td>m</td>\n",
       "      <td>m</td>\n",
       "      <td>0.0</td>\n",
       "      <td>0.98</td>\n",
       "      <td>0</td>\n",
       "      <td>-15.0</td>\n",
       "      <td>0</td>\n",
       "    </tr>\n",
       "    <tr>\n",
       "      <th>346</th>\n",
       "      <td>HarvardX/PH525.1x/1T2018</td>\n",
       "      <td>1993</td>\n",
       "      <td>Spain</td>\n",
       "      <td>hs</td>\n",
       "      <td>m</td>\n",
       "      <td>0.0</td>\n",
       "      <td>0.96</td>\n",
       "      <td>0</td>\n",
       "      <td>9.0</td>\n",
       "      <td>0</td>\n",
       "    </tr>\n",
       "    <tr>\n",
       "      <th>698</th>\n",
       "      <td>HarvardX/PH525.1x/1T2018</td>\n",
       "      <td>1988</td>\n",
       "      <td>United States</td>\n",
       "      <td>b</td>\n",
       "      <td>f</td>\n",
       "      <td>0.0</td>\n",
       "      <td>0.70</td>\n",
       "      <td>0</td>\n",
       "      <td>4.0</td>\n",
       "      <td>1</td>\n",
       "    </tr>\n",
       "    <tr>\n",
       "      <th>773</th>\n",
       "      <td>HarvardX/PH525.1x/1T2018</td>\n",
       "      <td>1999</td>\n",
       "      <td>United States</td>\n",
       "      <td>jhs</td>\n",
       "      <td>m</td>\n",
       "      <td>0.0</td>\n",
       "      <td>0.71</td>\n",
       "      <td>0</td>\n",
       "      <td>15.0</td>\n",
       "      <td>1</td>\n",
       "    </tr>\n",
       "    <tr>\n",
       "      <th>877</th>\n",
       "      <td>HarvardX/PH525.1x/1T2018</td>\n",
       "      <td>None</td>\n",
       "      <td>New Zealand</td>\n",
       "      <td>None</td>\n",
       "      <td>None</td>\n",
       "      <td>0.0</td>\n",
       "      <td>0.71</td>\n",
       "      <td>1</td>\n",
       "      <td>0.0</td>\n",
       "      <td>0</td>\n",
       "    </tr>\n",
       "    <tr>\n",
       "      <th>1978</th>\n",
       "      <td>HarvardX/PH525.1x/1T2018</td>\n",
       "      <td>1983</td>\n",
       "      <td>Kenya</td>\n",
       "      <td>jhs</td>\n",
       "      <td>m</td>\n",
       "      <td>0.0</td>\n",
       "      <td>0.70</td>\n",
       "      <td>0</td>\n",
       "      <td>-1.0</td>\n",
       "      <td>0</td>\n",
       "    </tr>\n",
       "    <tr>\n",
       "      <th>2619</th>\n",
       "      <td>HarvardX/PH525.1x/1T2018</td>\n",
       "      <td>1976</td>\n",
       "      <td>United States</td>\n",
       "      <td>b</td>\n",
       "      <td>f</td>\n",
       "      <td>0.0</td>\n",
       "      <td>0.95</td>\n",
       "      <td>0</td>\n",
       "      <td>-8.0</td>\n",
       "      <td>1</td>\n",
       "    </tr>\n",
       "    <tr>\n",
       "      <th>2798</th>\n",
       "      <td>HarvardX/PH525.1x/1T2018</td>\n",
       "      <td>None</td>\n",
       "      <td>Germany</td>\n",
       "      <td>m</td>\n",
       "      <td>m</td>\n",
       "      <td>0.0</td>\n",
       "      <td>0.70</td>\n",
       "      <td>1</td>\n",
       "      <td>0.0</td>\n",
       "      <td>0</td>\n",
       "    </tr>\n",
       "    <tr>\n",
       "      <th>3141</th>\n",
       "      <td>HarvardX/PH525.1x/1T2018</td>\n",
       "      <td>1967</td>\n",
       "      <td>Portugal</td>\n",
       "      <td>m</td>\n",
       "      <td>m</td>\n",
       "      <td>0.0</td>\n",
       "      <td>0.70</td>\n",
       "      <td>0</td>\n",
       "      <td>-17.0</td>\n",
       "      <td>0</td>\n",
       "    </tr>\n",
       "    <tr>\n",
       "      <th>3157</th>\n",
       "      <td>HarvardX/PH525.1x/1T2018</td>\n",
       "      <td>1991</td>\n",
       "      <td>United States</td>\n",
       "      <td>p</td>\n",
       "      <td>m</td>\n",
       "      <td>0.0</td>\n",
       "      <td>0.70</td>\n",
       "      <td>0</td>\n",
       "      <td>7.0</td>\n",
       "      <td>1</td>\n",
       "    </tr>\n",
       "    <tr>\n",
       "      <th>3235</th>\n",
       "      <td>HarvardX/PH525.1x/1T2018</td>\n",
       "      <td>None</td>\n",
       "      <td>Singapore</td>\n",
       "      <td>None</td>\n",
       "      <td>None</td>\n",
       "      <td>0.0</td>\n",
       "      <td>0.70</td>\n",
       "      <td>1</td>\n",
       "      <td>0.0</td>\n",
       "      <td>0</td>\n",
       "    </tr>\n",
       "    <tr>\n",
       "      <th>3872</th>\n",
       "      <td>HarvardX/PH525.1x/1T2018</td>\n",
       "      <td>1995</td>\n",
       "      <td>Hong Kong</td>\n",
       "      <td>b</td>\n",
       "      <td>f</td>\n",
       "      <td>0.0</td>\n",
       "      <td>0.70</td>\n",
       "      <td>0</td>\n",
       "      <td>11.0</td>\n",
       "      <td>0</td>\n",
       "    </tr>\n",
       "    <tr>\n",
       "      <th>4179</th>\n",
       "      <td>HarvardX/PH525.1x/1T2018</td>\n",
       "      <td>1973</td>\n",
       "      <td>United States</td>\n",
       "      <td>b</td>\n",
       "      <td>m</td>\n",
       "      <td>0.0</td>\n",
       "      <td>0.71</td>\n",
       "      <td>0</td>\n",
       "      <td>-11.0</td>\n",
       "      <td>1</td>\n",
       "    </tr>\n",
       "    <tr>\n",
       "      <th>4417</th>\n",
       "      <td>HarvardX/PH525.1x/1T2018</td>\n",
       "      <td>1993</td>\n",
       "      <td>Greece</td>\n",
       "      <td>hs</td>\n",
       "      <td>m</td>\n",
       "      <td>0.0</td>\n",
       "      <td>0.91</td>\n",
       "      <td>0</td>\n",
       "      <td>9.0</td>\n",
       "      <td>0</td>\n",
       "    </tr>\n",
       "    <tr>\n",
       "      <th>4584</th>\n",
       "      <td>HarvardX/PH525.1x/1T2018</td>\n",
       "      <td>1987</td>\n",
       "      <td>Spain</td>\n",
       "      <td>m</td>\n",
       "      <td>m</td>\n",
       "      <td>0.0</td>\n",
       "      <td>0.92</td>\n",
       "      <td>0</td>\n",
       "      <td>3.0</td>\n",
       "      <td>0</td>\n",
       "    </tr>\n",
       "    <tr>\n",
       "      <th>5278</th>\n",
       "      <td>HarvardX/PH525.1x/1T2018</td>\n",
       "      <td>None</td>\n",
       "      <td>Canada</td>\n",
       "      <td>None</td>\n",
       "      <td>f</td>\n",
       "      <td>0.0</td>\n",
       "      <td>0.97</td>\n",
       "      <td>1</td>\n",
       "      <td>0.0</td>\n",
       "      <td>0</td>\n",
       "    </tr>\n",
       "    <tr>\n",
       "      <th>5688</th>\n",
       "      <td>HarvardX/PH525.1x/1T2018</td>\n",
       "      <td>1997</td>\n",
       "      <td>France</td>\n",
       "      <td>hs</td>\n",
       "      <td>f</td>\n",
       "      <td>0.0</td>\n",
       "      <td>0.75</td>\n",
       "      <td>0</td>\n",
       "      <td>13.0</td>\n",
       "      <td>0</td>\n",
       "    </tr>\n",
       "  </tbody>\n",
       "</table>\n",
       "</div>"
      ],
      "text/plain": [
       "                     course_id   YoB   countryLabel   LoE gender  \\\n",
       "95    HarvardX/PH525.1x/1T2018  None          Spain  None   None   \n",
       "196   HarvardX/PH525.1x/1T2018  None  United States  None   None   \n",
       "289   HarvardX/PH525.1x/1T2018  1980        Germany     b      m   \n",
       "316   HarvardX/PH525.1x/1T2018  1969       Portugal     m      m   \n",
       "346   HarvardX/PH525.1x/1T2018  1993          Spain    hs      m   \n",
       "698   HarvardX/PH525.1x/1T2018  1988  United States     b      f   \n",
       "773   HarvardX/PH525.1x/1T2018  1999  United States   jhs      m   \n",
       "877   HarvardX/PH525.1x/1T2018  None    New Zealand  None   None   \n",
       "1978  HarvardX/PH525.1x/1T2018  1983          Kenya   jhs      m   \n",
       "2619  HarvardX/PH525.1x/1T2018  1976  United States     b      f   \n",
       "2798  HarvardX/PH525.1x/1T2018  None        Germany     m      m   \n",
       "3141  HarvardX/PH525.1x/1T2018  1967       Portugal     m      m   \n",
       "3157  HarvardX/PH525.1x/1T2018  1991  United States     p      m   \n",
       "3235  HarvardX/PH525.1x/1T2018  None      Singapore  None   None   \n",
       "3872  HarvardX/PH525.1x/1T2018  1995      Hong Kong     b      f   \n",
       "4179  HarvardX/PH525.1x/1T2018  1973  United States     b      m   \n",
       "4417  HarvardX/PH525.1x/1T2018  1993         Greece    hs      m   \n",
       "4584  HarvardX/PH525.1x/1T2018  1987          Spain     m      m   \n",
       "5278  HarvardX/PH525.1x/1T2018  None         Canada  None      f   \n",
       "5688  HarvardX/PH525.1x/1T2018  1997         France    hs      f   \n",
       "\n",
       "      nforum_posts  grade  YoB_missing  YoB_centered  from_USA  \n",
       "95             0.0   1.00            1           0.0         0  \n",
       "196            0.0   0.95            1           0.0         1  \n",
       "289            0.0   1.00            0          -4.0         0  \n",
       "316            0.0   0.98            0         -15.0         0  \n",
       "346            0.0   0.96            0           9.0         0  \n",
       "698            0.0   0.70            0           4.0         1  \n",
       "773            0.0   0.71            0          15.0         1  \n",
       "877            0.0   0.71            1           0.0         0  \n",
       "1978           0.0   0.70            0          -1.0         0  \n",
       "2619           0.0   0.95            0          -8.0         1  \n",
       "2798           0.0   0.70            1           0.0         0  \n",
       "3141           0.0   0.70            0         -17.0         0  \n",
       "3157           0.0   0.70            0           7.0         1  \n",
       "3235           0.0   0.70            1           0.0         0  \n",
       "3872           0.0   0.70            0          11.0         0  \n",
       "4179           0.0   0.71            0         -11.0         1  \n",
       "4417           0.0   0.91            0           9.0         0  \n",
       "4584           0.0   0.92            0           3.0         0  \n",
       "5278           0.0   0.97            1           0.0         0  \n",
       "5688           0.0   0.75            0          13.0         0  "
      ]
     },
     "execution_count": 809,
     "metadata": {},
     "output_type": "execute_result"
    }
   ],
   "source": [
    "df_synthetic_copy.head(20)"
   ]
  },
  {
   "cell_type": "code",
   "execution_count": 810,
   "metadata": {},
   "outputs": [],
   "source": [
    "# create copy of dataframe to prepare to train logistic regression model on observations that have grade of 0\n",
    "df_log_reg = df_synthetic_copy.copy()"
   ]
  },
  {
   "cell_type": "code",
   "execution_count": 811,
   "metadata": {},
   "outputs": [],
   "source": [
    "# add column that indicates whether observation has a grade of zero\n",
    "df_log_reg['grade_zero'] = [int(x == 0) for x in df_log_reg.grade]"
   ]
  },
  {
   "cell_type": "code",
   "execution_count": 812,
   "metadata": {},
   "outputs": [],
   "source": [
    "# create copy of dataframe to prepare to train GLM on observations that have non-zero grades\n",
    "df_glm = df_log_reg.copy()"
   ]
  },
  {
   "cell_type": "code",
   "execution_count": 813,
   "metadata": {},
   "outputs": [
    {
     "data": {
      "text/plain": [
       "Index(['course_id', 'YoB', 'countryLabel', 'LoE', 'gender', 'nforum_posts',\n",
       "       'grade', 'YoB_missing', 'YoB_centered', 'from_USA', 'grade_zero'],\n",
       "      dtype='object')"
      ]
     },
     "execution_count": 813,
     "metadata": {},
     "output_type": "execute_result"
    }
   ],
   "source": [
    "df_log_reg.columns"
   ]
  },
  {
   "cell_type": "code",
   "execution_count": 814,
   "metadata": {},
   "outputs": [],
   "source": [
    "# add indicator variables for each category for the following predictors: course_id, LoE and gender\n",
    "df_log_reg_dummies = pd.get_dummies(df_log_reg, columns =['course_id', 'LoE', 'gender'])"
   ]
  },
  {
   "cell_type": "code",
   "execution_count": 815,
   "metadata": {},
   "outputs": [
    {
     "data": {
      "text/plain": [
       "(11009668, 306)"
      ]
     },
     "execution_count": 815,
     "metadata": {},
     "output_type": "execute_result"
    }
   ],
   "source": [
    "# adding dummy variables produces an explosion in the number of predictors \n",
    "df_log_reg_dummies.shape"
   ]
  },
  {
   "cell_type": "code",
   "execution_count": 816,
   "metadata": {},
   "outputs": [],
   "source": [
    "# drop the following variables from design matrix: countryLabel, grade, grade_zero and YoB, and convert resulting\n",
    "# dataframe into a numpy array. This array is the design matrix for the logistic regression model \n",
    "X = df_log_reg_dummies.drop(['countryLabel', 'grade', 'grade_zero', 'YoB'], axis=1).to_numpy()"
   ]
  },
  {
   "cell_type": "code",
   "execution_count": 817,
   "metadata": {},
   "outputs": [],
   "source": [
    "# the indicator of whether the grade is zero is the response variable\n",
    "y = np.array(df_log_reg['grade_zero'])"
   ]
  },
  {
   "cell_type": "code",
   "execution_count": 818,
   "metadata": {},
   "outputs": [],
   "source": [
    "# train the model on the original dataset, and `test` the model on the synthetic observations\n",
    "# (note: to be precise, we're not testing the model on the test set as there's no ground truth available; \n",
    "# instead, we're simply predicting the response variable on the test set)\n",
    "X_train = X[:nrows_original, :]\n",
    "X_test = X[nrows_original:, :]\n",
    "y_train = y[:nrows_original]"
   ]
  },
  {
   "cell_type": "code",
   "execution_count": 940,
   "metadata": {},
   "outputs": [
    {
     "name": "stdout",
     "output_type": "stream",
     "text": [
      "fraction of observations in original dataset that have grade of 0: 0.886\n"
     ]
    }
   ],
   "source": [
    "print(f'fraction of observations in original dataset that have grade of 0: {round(np.mean(y_train), 3)}')"
   ]
  },
  {
   "cell_type": "code",
   "execution_count": 941,
   "metadata": {},
   "outputs": [
    {
     "data": {
      "text/plain": [
       "LogisticRegression(C=100000, class_weight=None, dual=False,\n",
       "          fit_intercept=True, intercept_scaling=1, max_iter=3000,\n",
       "          multi_class='warn', n_jobs=None, penalty='l2', random_state=None,\n",
       "          solver='lbfgs', tol=0.0001, verbose=0, warm_start=False)"
      ]
     },
     "execution_count": 941,
     "metadata": {},
     "output_type": "execute_result"
    }
   ],
   "source": [
    "# fit logistic regression model without any regularization\n",
    "log_reg_model = LogisticRegression(C=100000, solver='lbfgs', max_iter=3000)\n",
    "log_reg_model.fit(X_train, y_train)"
   ]
  },
  {
   "cell_type": "code",
   "execution_count": 990,
   "metadata": {},
   "outputs": [
    {
     "name": "stderr",
     "output_type": "stream",
     "text": [
      "/Users/wfried/anaconda3/lib/python3.7/site-packages/sklearn/linear_model/base.py:297: RuntimeWarning: overflow encountered in exp\n",
      "  np.exp(prob, prob)\n"
     ]
    }
   ],
   "source": [
    "# predict probability of grade of 0 on test set\n",
    "train_preds = log_reg_model.predict_proba(X_train)\n",
    "prob_zero_grade_train = log_reg_preds[:, 1]"
   ]
  },
  {
   "cell_type": "code",
   "execution_count": 1047,
   "metadata": {},
   "outputs": [
    {
     "data": {
      "image/png": "[encoded data removed]",
      "text/plain": [
       "<Figure size 1440x720 with 1 Axes>"
      ]
     },
     "metadata": {
      "needs_background": "light"
     },
     "output_type": "display_data"
    }
   ],
   "source": [
    "plt.figure(figsize=(20, 10))\n",
    "plt.scatter(X_train[:100000, 0], logit(prob_zero_grade_train[:100000]))\n",
    "plt.xlabel('nforum_posts')\n",
    "plt.ylabel('logit of predicted probability')\n",
    "plt.ylim(-50, 5) \n",
    "plt.show()"
   ]
  },
  {
   "cell_type": "code",
   "execution_count": 1007,
   "metadata": {},
   "outputs": [
    {
     "data": {
      "image/png": "[encoded data removed]",
      "text/plain": [
       "<Figure size 1440x720 with 1 Axes>"
      ]
     },
     "metadata": {
      "needs_background": "light"
     },
     "output_type": "display_data"
    }
   ],
   "source": [
    "plt.figure(figsize=(20, 10))\n",
    "plt.scatter(np.log(X_train[:100000, 0] + 1), logit(prob_zero_grade_train[:100000]))\n",
    "plt.xlabel('nforum_posts')\n",
    "plt.ylabel('logit of predicted probability')\n",
    "plt.ylim(-20, 5) \n",
    "plt.show()"
   ]
  },
  {
   "cell_type": "code",
   "execution_count": 1016,
   "metadata": {},
   "outputs": [
    {
     "data": {
      "image/png": "[encoded data removed]",
      "text/plain": [
       "<Figure size 1440x720 with 1 Axes>"
      ]
     },
     "metadata": {
      "needs_background": "light"
     },
     "output_type": "display_data"
    }
   ],
   "source": [
    "plt.figure(figsize=(20, 10))\n",
    "plt.scatter(X_train[:100000, 2], logit(prob_zero_grade_train[:100000]))\n",
    "plt.xlabel('YoB')\n",
    "plt.ylabel('logit of predicted probability')\n",
    "plt.show()"
   ]
  },
  {
   "cell_type": "code",
   "execution_count": 1017,
   "metadata": {},
   "outputs": [],
   "source": [
    "X_train_transformed = np.copy(X_train)\n",
    "X_test_transformed = np.copy(X_test)\n",
    "X_train_transformed[:, 0] = np.log(X_train_transformed[:, 0] + 1)\n",
    "X_test_transformed[:, 0] = np.log(X_test_transformed[:, 0] + 1)"
   ]
  },
  {
   "cell_type": "code",
   "execution_count": 1021,
   "metadata": {},
   "outputs": [
    {
     "data": {
      "text/plain": [
       "LogisticRegression(C=100000, class_weight=None, dual=False,\n",
       "          fit_intercept=True, intercept_scaling=1, max_iter=3000,\n",
       "          multi_class='warn', n_jobs=None, penalty='l2', random_state=None,\n",
       "          solver='lbfgs', tol=0.0001, verbose=0, warm_start=False)"
      ]
     },
     "execution_count": 1021,
     "metadata": {},
     "output_type": "execute_result"
    }
   ],
   "source": [
    "# fit logistic regression model without any regularization\n",
    "log_reg_transformed = LogisticRegression(C=100000, solver='lbfgs', max_iter=3000)\n",
    "log_reg_transformed.fit(X_train_transformed, y_train)"
   ]
  },
  {
   "cell_type": "code",
   "execution_count": 1022,
   "metadata": {},
   "outputs": [],
   "source": [
    "log_reg_preds_transformed = log_reg_transformed.predict_proba(X_test_transformed)\n",
    "prob_zero_grade_transformed = log_reg_preds_transformed[:, 1]"
   ]
  },
  {
   "cell_type": "code",
   "execution_count": 988,
   "metadata": {},
   "outputs": [
    {
     "name": "stderr",
     "output_type": "stream",
     "text": [
      "/Users/wfried/anaconda3/lib/python3.7/site-packages/sklearn/linear_model/base.py:297: RuntimeWarning: overflow encountered in exp\n",
      "  np.exp(prob, prob)\n"
     ]
    }
   ],
   "source": [
    "# predict probability of grade of 0 on test set\n",
    "log_reg_preds = log_reg_model.predict_proba(X_test)\n",
    "prob_zero_grade = log_reg_preds[:, 1]"
   ]
  },
  {
   "cell_type": "code",
   "execution_count": 1048,
   "metadata": {},
   "outputs": [],
   "source": [
    "# sample from resulting Bernoulli probability distribution for each observation in X_test\n",
    "np.random.seed(221)\n",
    "zero_grade_sample = bernoulli.rvs(p=prob_zero_grade_transformed)"
   ]
  },
  {
   "cell_type": "code",
   "execution_count": 1049,
   "metadata": {},
   "outputs": [
    {
     "data": {
      "text/plain": [
       "0.7393490401045196"
      ]
     },
     "execution_count": 1049,
     "metadata": {},
     "output_type": "execute_result"
    }
   ],
   "source": [
    "np.mean(prob_zero_grade_transformed)"
   ]
  },
  {
   "cell_type": "code",
   "execution_count": 1050,
   "metadata": {},
   "outputs": [],
   "source": [
    "# \n",
    "df_glm_original = df_glm.iloc[:nrows_original]\n",
    "df_glm_added = df_glm.iloc[nrows_original:]"
   ]
  },
  {
   "cell_type": "code",
   "execution_count": 1051,
   "metadata": {},
   "outputs": [
    {
     "name": "stderr",
     "output_type": "stream",
     "text": [
      "/Users/wfried/anaconda3/lib/python3.7/site-packages/pandas/core/ops.py:1649: FutureWarning: elementwise comparison failed; returning scalar instead, but in the future will perform elementwise comparison\n",
      "  result = method(y)\n"
     ]
    }
   ],
   "source": [
    "# extract observations from original dataset where the grade value is not 0 or Null\n",
    "df_glm_train = df_glm_original[(df_glm_original.grade != 0) & (df_glm_original.grade != 'None')]"
   ]
  },
  {
   "cell_type": "code",
   "execution_count": 1052,
   "metadata": {},
   "outputs": [],
   "source": [
    "df_glm_train.drop(columns=['countryLabel', 'grade_zero', 'YoB'], inplace=True)"
   ]
  },
  {
   "cell_type": "code",
   "execution_count": 1053,
   "metadata": {},
   "outputs": [
    {
     "name": "stderr",
     "output_type": "stream",
     "text": [
      "/Users/wfried/anaconda3/lib/python3.7/site-packages/ipykernel_launcher.py:3: SettingWithCopyWarning: \n",
      "A value is trying to be set on a copy of a slice from a DataFrame.\n",
      "Try using .loc[row_indexer,col_indexer] = value instead\n",
      "\n",
      "See the caveats in the documentation: http://pandas.pydata.org/pandas-docs/stable/indexing.html#indexing-view-versus-copy\n",
      "  This is separate from the ipykernel package so we can avoid doing imports until\n"
     ]
    }
   ],
   "source": [
    "# ensure that all non-zero grade values are between 0 and 1 (exclusive). This step is necessary because several\n",
    "# of the grade values are negative, while several are equal to and greater than 1.0\n",
    "df_glm_train['grade'] = df_glm_train['grade'].apply(lambda x: max(0.01, min(x, 0.999)))"
   ]
  },
  {
   "cell_type": "code",
   "execution_count": 1054,
   "metadata": {},
   "outputs": [
    {
     "data": {
      "image/png": "[encoded data removed]",
      "text/plain": [
       "<Figure size 1440x720 with 1 Axes>"
      ]
     },
     "metadata": {
      "needs_background": "light"
     },
     "output_type": "display_data"
    }
   ],
   "source": [
    "# plot distribution of grade\n",
    "plt.figure(figsize=(20, 10))\n",
    "plt.hist(df_glm_train.grade, bins=20, density=True)\n",
    "plt.xlabel('grade')\n",
    "plt.ylabel('density')\n",
    "plt.show()"
   ]
  },
  {
   "cell_type": "code",
   "execution_count": 1055,
   "metadata": {},
   "outputs": [
    {
     "data": {
      "image/png": "[encoded data removed]",
      "text/plain": [
       "<Figure size 1440x720 with 1 Axes>"
      ]
     },
     "metadata": {
      "needs_background": "light"
     },
     "output_type": "display_data"
    }
   ],
   "source": [
    "plt.figure(figsize=(20, 10))\n",
    "plt.hist(logit(df_glm_train.grade), bins=20, density=True)\n",
    "plt.xlabel('logit of grade')\n",
    "plt.ylabel('density')\n",
    "plt.show()"
   ]
  },
  {
   "cell_type": "code",
   "execution_count": 1056,
   "metadata": {},
   "outputs": [
    {
     "data": {
      "image/png": "[encoded data removed]",
      "text/plain": [
       "<Figure size 1440x720 with 1 Axes>"
      ]
     },
     "metadata": {
      "needs_background": "light"
     },
     "output_type": "display_data"
    }
   ],
   "source": [
    "# plot distribution of logit of grade\n",
    "plt.figure(figsize=(20, 10))\n",
    "plt.hist(norm.ppf(df_glm_train.grade), bins=20, density=True)\n",
    "plt.xlabel('probit of grade')\n",
    "plt.ylabel('density')\n",
    "plt.show()"
   ]
  },
  {
   "cell_type": "code",
   "execution_count": 708,
   "metadata": {},
   "outputs": [],
   "source": [
    "# convert training set to csv to transfer data to R\n",
    "df_glm_train.to_csv('train_df.csv', index=False)"
   ]
  },
  {
   "cell_type": "code",
   "execution_count": 1026,
   "metadata": {},
   "outputs": [
    {
     "name": "stderr",
     "output_type": "stream",
     "text": [
      "/Users/wfried/anaconda3/lib/python3.7/site-packages/pandas/core/frame.py:3940: SettingWithCopyWarning: \n",
      "A value is trying to be set on a copy of a slice from a DataFrame\n",
      "\n",
      "See the caveats in the documentation: http://pandas.pydata.org/pandas-docs/stable/indexing.html#indexing-view-versus-copy\n",
      "  errors=errors)\n"
     ]
    }
   ],
   "source": [
    "df_glm_added.drop(columns=['countryLabel', 'grade_zero', 'YoB', 'grade'], inplace=True, errors='ignore')"
   ]
  },
  {
   "cell_type": "code",
   "execution_count": 1057,
   "metadata": {},
   "outputs": [
    {
     "name": "stderr",
     "output_type": "stream",
     "text": [
      "/Users/wfried/anaconda3/lib/python3.7/site-packages/ipykernel_launcher.py:2: SettingWithCopyWarning: \n",
      "A value is trying to be set on a copy of a slice from a DataFrame.\n",
      "Try using .loc[row_indexer,col_indexer] = value instead\n",
      "\n",
      "See the caveats in the documentation: http://pandas.pydata.org/pandas-docs/stable/indexing.html#indexing-view-versus-copy\n",
      "  \n"
     ]
    }
   ],
   "source": [
    "# add column that indicates whether grade is predicted to be zero\n",
    "df_glm_added['is_grade_zero'] = zero_grade_sample"
   ]
  },
  {
   "cell_type": "code",
   "execution_count": 1058,
   "metadata": {},
   "outputs": [],
   "source": [
    "# only observations where grade is not predicted to be zero need to be processed\n",
    "df_glm_test = df_glm_added[df_glm_added.is_grade_zero == 0]\n",
    "df_glm_test.drop(columns=['is_grade_zero'], inplace=True)"
   ]
  },
  {
   "cell_type": "code",
   "execution_count": 1059,
   "metadata": {},
   "outputs": [],
   "source": [
    "# convert test set to csv to transfer data to R\n",
    "df_glm_test.to_csv('test_df.csv', index=False)"
   ]
  },
  {
   "cell_type": "code",
   "execution_count": 1064,
   "metadata": {},
   "outputs": [
    {
     "name": "stderr",
     "output_type": "stream",
     "text": [
      "/Users/wfried/anaconda3/lib/python3.7/site-packages/ipykernel_launcher.py:3: SettingWithCopyWarning: \n",
      "A value is trying to be set on a copy of a slice from a DataFrame.\n",
      "Try using .loc[row_indexer,col_indexer] = value instead\n",
      "\n",
      "See the caveats in the documentation: http://pandas.pydata.org/pandas-docs/stable/indexing.html#indexing-view-versus-copy\n",
      "  This is separate from the ipykernel package so we can avoid doing imports until\n"
     ]
    }
   ],
   "source": [
    "# predict whether grade is zero for fake rows\n",
    "df_fake = df_synthetic[df_synthetic.grade == 9999]\n",
    "df_fake['grade'] = [0 if x == 1 else 9999 for x in zero_grade_sample]"
   ]
  },
  {
   "cell_type": "code",
   "execution_count": 1065,
   "metadata": {},
   "outputs": [],
   "source": [
    "df_fake_predicted_zeros = df_fake[df_fake.grade == 0]\n",
    "df_fake_predicted_not_zeros = df_fake[df_fake.grade != 0]"
   ]
  },
  {
   "cell_type": "code",
   "execution_count": 1061,
   "metadata": {},
   "outputs": [],
   "source": [
    "# read in predictions of non-zero grades from R\n",
    "predicted_grades_df = pd.read_csv('preds.csv')"
   ]
  },
  {
   "cell_type": "code",
   "execution_count": 1067,
   "metadata": {},
   "outputs": [
    {
     "name": "stderr",
     "output_type": "stream",
     "text": [
      "/Users/wfried/anaconda3/lib/python3.7/site-packages/ipykernel_launcher.py:1: SettingWithCopyWarning: \n",
      "A value is trying to be set on a copy of a slice from a DataFrame.\n",
      "Try using .loc[row_indexer,col_indexer] = value instead\n",
      "\n",
      "See the caveats in the documentation: http://pandas.pydata.org/pandas-docs/stable/indexing.html#indexing-view-versus-copy\n",
      "  \"\"\"Entry point for launching an IPython kernel.\n"
     ]
    }
   ],
   "source": [
    "df_fake_predicted_not_zeros['grade'] = list(predicted_grades_df.preds)"
   ]
  },
  {
   "cell_type": "code",
   "execution_count": 1069,
   "metadata": {},
   "outputs": [],
   "source": [
    "# combine datasets to create final synthetic dataset\n",
    "df_fake_grades_filled = pd.concat([df_fake_predicted_zeros, df_fake_predicted_not_zeros])\n",
    "df_final = pd.concat([df_original, df_fake_grades_filled])"
   ]
  },
  {
   "cell_type": "code",
   "execution_count": 1071,
   "metadata": {},
   "outputs": [],
   "source": [
    "# calculate mean and correlation in original dataset\n",
    "mean_grade_original = np.mean(df_original.grade)\n",
    "correlation_original = pearsonr(df_original.grade, df_original.nforum_posts)[0]"
   ]
  },
  {
   "cell_type": "code",
   "execution_count": 1072,
   "metadata": {},
   "outputs": [],
   "source": [
    "# calculate mean and correlation in final synthetic dataset\n",
    "mean_grade_final = np.mean(df_final.grade)\n",
    "correlation_final = pearsonr(df_final.grade, df_final.nforum_posts)[0]"
   ]
  },
  {
   "cell_type": "code",
   "execution_count": 1073,
   "metadata": {},
   "outputs": [
    {
     "name": "stdout",
     "output_type": "stream",
     "text": [
      "mean bias: 0.03723632698313643\n",
      "correlation bias: 0.028509252228746812\n"
     ]
    }
   ],
   "source": [
    "print(f'mean bias: {abs(mean_grade_original - mean_grade_final)}')\n",
    "print(f'correlation bias: {abs(correlation_original - correlation_final)}')"
   ]
  },
  {
   "cell_type": "code",
   "execution_count": null,
   "metadata": {},
   "outputs": [],
   "source": []
  }
 ],
 "metadata": {
  "kernelspec": {
   "display_name": "Python 3",
   "language": "python",
   "name": "python3"
  },
  "language_info": {
   "codemirror_mode": {
    "name": "ipython",
    "version": 3
   },
   "file_extension": ".py",
   "mimetype": "text/x-python",
   "name": "python",
   "nbconvert_exporter": "python",
   "pygments_lexer": "ipython3",
   "version": "3.7.3"
  }
 },
 "nbformat": 4,
 "nbformat_minor": 4
}
